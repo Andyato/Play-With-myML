{
 "cells": [
  {
   "cell_type": "markdown",
   "metadata": {},
   "source": [
    "# 多元线性回归模型"
   ]
  },
  {
   "cell_type": "code",
   "execution_count": 1,
   "metadata": {},
   "outputs": [],
   "source": [
    "import numpy as np\n",
    "import matplotlib.pyplot as plt\n",
    "from sklearn import datasets"
   ]
  },
  {
   "cell_type": "code",
   "execution_count": 2,
   "metadata": {},
   "outputs": [
    {
     "name": "stdout",
     "output_type": "stream",
     "text": [
      "(490, 13)\n",
      "(490,)\n"
     ]
    }
   ],
   "source": [
    "boston = datasets.load_boston()\n",
    "\n",
    "X = boston.data\n",
    "y = boston.target\n",
    "X = X[y < 50.0]\n",
    "y = y[y < 50.0]\n",
    "print(X.shape)\n",
    "print(y.shape)"
   ]
  },
  {
   "cell_type": "markdown",
   "metadata": {},
   "source": [
    "## 使用自己实现的LinearResgression"
   ]
  },
  {
   "cell_type": "code",
   "execution_count": 3,
   "metadata": {},
   "outputs": [],
   "source": [
    "from myML.model_selection import train_test_split\n",
    "\n",
    "X_train, X_test, y_train, y_test = train_test_split(X, y, test_retio = 0.3, seed = 666)"
   ]
  },
  {
   "cell_type": "code",
   "execution_count": 4,
   "metadata": {},
   "outputs": [],
   "source": [
    "from myML.LinearRegression import LinearRegression"
   ]
  },
  {
   "cell_type": "code",
   "execution_count": 5,
   "metadata": {},
   "outputs": [],
   "source": [
    "LinR = LinearRegression()"
   ]
  },
  {
   "cell_type": "code",
   "execution_count": 6,
   "metadata": {},
   "outputs": [
    {
     "data": {
      "text/plain": [
       "LinearRegression()"
      ]
     },
     "execution_count": 6,
     "metadata": {},
     "output_type": "execute_result"
    }
   ],
   "source": [
    "LinR.fit_normal(X_train, y_train)"
   ]
  },
  {
   "cell_type": "code",
   "execution_count": 7,
   "metadata": {},
   "outputs": [
    {
     "data": {
      "text/plain": [
       "array([-1.08722548e-01,  3.97622890e-02, -2.32493944e-02,  1.64979128e-01,\n",
       "       -1.25400454e+01,  3.07483841e+00, -1.69999317e-02, -1.19479870e+00,\n",
       "        2.61087493e-01, -1.32954914e-02, -8.64335057e-01,  7.80218431e-03,\n",
       "       -4.13039765e-01])"
      ]
     },
     "execution_count": 7,
     "metadata": {},
     "output_type": "execute_result"
    }
   ],
   "source": [
    "LinR.coef_  #系数向量"
   ]
  },
  {
   "cell_type": "code",
   "execution_count": 8,
   "metadata": {},
   "outputs": [
    {
     "data": {
      "text/plain": [
       "36.77253957260669"
      ]
     },
     "execution_count": 8,
     "metadata": {},
     "output_type": "execute_result"
    }
   ],
   "source": [
    "LinR.interception_ #截距"
   ]
  },
  {
   "cell_type": "code",
   "execution_count": 9,
   "metadata": {},
   "outputs": [
    {
     "data": {
      "text/plain": [
       "array([17.98268235, 25.28043285, 13.06779543, 32.71423581, 24.38257831,\n",
       "        2.99430736, 26.56961762, 32.10239983, 13.80166905, 23.60687375,\n",
       "       15.01632764, 11.30549542, 29.96928773, 16.42307413, 23.62255053,\n",
       "       25.74060148, 18.83235907, 23.94646204, 28.87004026, 26.88592229,\n",
       "       12.8823243 , 27.00262129, 26.000087  , 23.37648548, 20.83713742,\n",
       "       31.70852249, 14.6138421 , 20.82650587, 13.05026471, 29.50292108,\n",
       "       34.94090331,  5.86849554, 13.18382425, 34.96904764, 16.09466407,\n",
       "       21.33816201, 12.63711331, 29.05030804, 27.86616139, 23.840639  ,\n",
       "       14.25601498, 23.53747699, 11.33416573, 22.20142785, 18.48698317,\n",
       "       16.3662665 , 24.47899395, 32.69336146, 19.04826425, 27.0225436 ,\n",
       "       17.9370849 , 14.75768832, 25.15507742, 15.9984901 , 21.66912397,\n",
       "       16.36260597, 23.9370511 , 11.77534331, 27.71796271, 30.7256929 ,\n",
       "       20.14355171, 24.81029156, 26.00148859, 12.6284093 , 16.86661325,\n",
       "       27.03448327, 22.09163588, 21.7788927 , 31.30386948, 14.19807845,\n",
       "       16.39137489, 24.96881165, 25.05840745, 18.70283074, 17.3001719 ,\n",
       "       27.66480796, 23.72331268, 14.54178543, 11.55331256, 31.28302383,\n",
       "       33.10708546, 17.46333849, 18.83592314, 17.60545633, 24.84143289,\n",
       "       23.43385818, 24.55729482, 25.86399991, 25.13872141, 20.25019483,\n",
       "       24.56518096, 33.17848365, 35.7835049 , 22.93152302, 18.82891092,\n",
       "       30.7236578 , 35.61557151, 20.53038807, 16.69210574, 17.34834972,\n",
       "       31.54742075, 15.13275369, 32.569444  , 22.21421068, 16.5661809 ,\n",
       "       14.68902453, 24.31993071, 18.45654879, 17.83779811, 32.99336043,\n",
       "       21.66161056, 14.35280941,  7.14034099, 18.3646142 , 32.88851289,\n",
       "       16.71186621, 13.36924467, 21.67043621, 29.32099179, 15.80121812,\n",
       "       28.02738462, 18.01946785,  7.78456605, 27.85302607, 31.61167025,\n",
       "       28.19194875, 21.85521768, 34.61033186, 28.00424631, 27.34615579,\n",
       "       21.49412904, 18.57328922, 11.51858253, 25.21732423, 37.97458734,\n",
       "       20.14649474, 25.34706707, 24.37134193, 21.20663957,  7.81188664,\n",
       "       28.85924296, 24.95250274, 28.13386553, 21.80672576, 15.9064626 ,\n",
       "       29.97381771, 28.23869244])"
      ]
     },
     "execution_count": 9,
     "metadata": {},
     "output_type": "execute_result"
    }
   ],
   "source": [
    "y_predict = LinR.predict(X_test)\n",
    "y_predict"
   ]
  },
  {
   "cell_type": "code",
   "execution_count": 10,
   "metadata": {},
   "outputs": [
    {
     "data": {
      "text/plain": [
       "0.7983873331590206"
      ]
     },
     "execution_count": 10,
     "metadata": {},
     "output_type": "execute_result"
    }
   ],
   "source": [
    "LinR.score(X_test, y_test)"
   ]
  },
  {
   "cell_type": "markdown",
   "metadata": {},
   "source": [
    "## 使用sklearn中的LinearRegression"
   ]
  },
  {
   "cell_type": "code",
   "execution_count": 11,
   "metadata": {},
   "outputs": [],
   "source": [
    "from sklearn.model_selection import train_test_split\n",
    "\n",
    "X_train, X_test, y_train, y_test = train_test_split(X, y, test_size = 0.3, random_state = 666)"
   ]
  },
  {
   "cell_type": "code",
   "execution_count": 12,
   "metadata": {},
   "outputs": [],
   "source": [
    "from sklearn.linear_model import LinearRegression"
   ]
  },
  {
   "cell_type": "code",
   "execution_count": 13,
   "metadata": {},
   "outputs": [
    {
     "data": {
      "text/plain": [
       "LinearRegression(copy_X=True, fit_intercept=True, n_jobs=1, normalize=False)"
      ]
     },
     "execution_count": 13,
     "metadata": {},
     "output_type": "execute_result"
    }
   ],
   "source": [
    "LinReg = LinearRegression()\n",
    "LinReg.fit(X_train, y_train)"
   ]
  },
  {
   "cell_type": "code",
   "execution_count": 14,
   "metadata": {},
   "outputs": [
    {
     "data": {
      "text/plain": [
       "array([17.98268235, 25.28043285, 13.06779543, 32.71423581, 24.38257831,\n",
       "        2.99430736, 26.56961762, 32.10239983, 13.80166905, 23.60687375,\n",
       "       15.01632764, 11.30549542, 29.96928773, 16.42307413, 23.62255053,\n",
       "       25.74060148, 18.83235907, 23.94646204, 28.87004026, 26.88592229,\n",
       "       12.8823243 , 27.00262129, 26.000087  , 23.37648548, 20.83713742,\n",
       "       31.70852249, 14.6138421 , 20.82650587, 13.05026471, 29.50292108,\n",
       "       34.94090331,  5.86849554, 13.18382425, 34.96904764, 16.09466407,\n",
       "       21.33816201, 12.63711331, 29.05030804, 27.86616139, 23.840639  ,\n",
       "       14.25601498, 23.53747699, 11.33416573, 22.20142785, 18.48698317,\n",
       "       16.3662665 , 24.47899395, 32.69336146, 19.04826425, 27.0225436 ,\n",
       "       17.9370849 , 14.75768832, 25.15507742, 15.9984901 , 21.66912397,\n",
       "       16.36260597, 23.9370511 , 11.77534331, 27.71796271, 30.7256929 ,\n",
       "       20.14355171, 24.81029156, 26.00148859, 12.6284093 , 16.86661325,\n",
       "       27.03448327, 22.09163588, 21.7788927 , 31.30386948, 14.19807845,\n",
       "       16.39137489, 24.96881165, 25.05840745, 18.70283074, 17.3001719 ,\n",
       "       27.66480796, 23.72331268, 14.54178543, 11.55331256, 31.28302383,\n",
       "       33.10708546, 17.46333849, 18.83592314, 17.60545633, 24.84143289,\n",
       "       23.43385818, 24.55729482, 25.86399991, 25.13872141, 20.25019483,\n",
       "       24.56518096, 33.17848365, 35.7835049 , 22.93152302, 18.82891092,\n",
       "       30.7236578 , 35.61557151, 20.53038807, 16.69210574, 17.34834972,\n",
       "       31.54742075, 15.13275369, 32.569444  , 22.21421068, 16.5661809 ,\n",
       "       14.68902453, 24.31993071, 18.45654879, 17.83779811, 32.99336043,\n",
       "       21.66161056, 14.35280941,  7.14034099, 18.3646142 , 32.88851289,\n",
       "       16.71186621, 13.36924467, 21.67043621, 29.32099179, 15.80121812,\n",
       "       28.02738462, 18.01946785,  7.78456605, 27.85302607, 31.61167025,\n",
       "       28.19194875, 21.85521768, 34.61033186, 28.00424631, 27.34615579,\n",
       "       21.49412904, 18.57328922, 11.51858253, 25.21732423, 37.97458734,\n",
       "       20.14649474, 25.34706707, 24.37134193, 21.20663957,  7.81188664,\n",
       "       28.85924296, 24.95250274, 28.13386553, 21.80672576, 15.9064626 ,\n",
       "       29.97381771, 28.23869244])"
      ]
     },
     "execution_count": 14,
     "metadata": {},
     "output_type": "execute_result"
    }
   ],
   "source": [
    "LinReg.predict(X_test)"
   ]
  },
  {
   "cell_type": "code",
   "execution_count": 15,
   "metadata": {},
   "outputs": [
    {
     "data": {
      "text/plain": [
       "0.7983873331590328"
      ]
     },
     "execution_count": 15,
     "metadata": {},
     "output_type": "execute_result"
    }
   ],
   "source": [
    "LinReg.score(X_test, y_test)"
   ]
  },
  {
   "cell_type": "markdown",
   "metadata": {},
   "source": [
    "## KNN Regression"
   ]
  },
  {
   "cell_type": "code",
   "execution_count": 16,
   "metadata": {},
   "outputs": [
    {
     "data": {
      "text/plain": [
       "array([18.36, 30.56, 10.86, 28.42, 22.34,  8.74, 28.18, 34.74, 16.4 ,\n",
       "       32.42, 16.24, 18.7 , 23.04, 15.4 , 22.3 , 28.52, 15.6 , 23.86,\n",
       "       27.08, 28.52, 10.26, 24.34, 24.06, 32.32, 22.34, 28.34, 19.24,\n",
       "       24.18, 10.86, 24.54, 32.12, 11.86, 11.66, 34.1 , 19.12, 17.28,\n",
       "       10.4 , 23.62, 19.06, 19.22, 12.82, 25.08, 16.5 , 24.64, 24.56,\n",
       "       15.76, 24.8 , 32.12, 20.  , 21.96, 18.48, 10.26, 23.  , 19.22,\n",
       "       24.8 , 28.5 , 24.16, 17.52, 23.5 , 34.74, 20.26, 26.2 , 22.3 ,\n",
       "       10.36, 13.68, 24.76, 20.68, 21.46, 27.08, 11.2 , 16.8 , 19.06,\n",
       "       19.28, 20.52, 12.04, 21.1 , 21.74, 17.68, 15.52, 29.92, 20.14,\n",
       "       20.  , 20.52, 16.6 , 28.64, 20.56, 23.58, 21.84, 27.42, 17.86,\n",
       "       30.56, 29.94, 32.44, 24.24, 31.74, 31.82, 34.74, 21.06, 12.22,\n",
       "       17.22, 31.98, 17.8 , 28.64, 19.88, 16.4 , 19.14, 20.26, 21.6 ,\n",
       "       22.  , 32.12, 22.16, 26.42,  8.84, 21.76, 34.74, 12.64, 21.88,\n",
       "       20.36, 25.3 , 10.52, 30.82, 16.4 , 14.26, 23.08, 28.42, 27.52,\n",
       "       19.38, 24.7 , 20.4 , 20.88, 33.58, 21.22, 21.22, 30.56, 32.12,\n",
       "       24.34, 22.96, 25.78, 23.4 ,  8.3 , 25.86, 30.82, 22.96, 26.32,\n",
       "        9.62, 27.  , 28.66])"
      ]
     },
     "execution_count": 16,
     "metadata": {},
     "output_type": "execute_result"
    }
   ],
   "source": [
    "from sklearn.neighbors import KNeighborsRegressor\n",
    "\n",
    "knn_reg = KNeighborsRegressor()\n",
    "knn_reg.fit(X_train, y_train)\n",
    "knn_reg.predict(X_test)"
   ]
  },
  {
   "cell_type": "code",
   "execution_count": 17,
   "metadata": {},
   "outputs": [
    {
     "data": {
      "text/plain": [
       "0.5841305260800772"
      ]
     },
     "execution_count": 17,
     "metadata": {},
     "output_type": "execute_result"
    }
   ],
   "source": [
    "knn_reg.score(X_test, y_test)"
   ]
  },
  {
   "cell_type": "markdown",
   "metadata": {},
   "source": [
    "- 可以看出结果不如线性回归，下面进行参数搜索并调整"
   ]
  },
  {
   "cell_type": "code",
   "execution_count": 21,
   "metadata": {},
   "outputs": [
    {
     "name": "stdout",
     "output_type": "stream",
     "text": [
      "Fitting 3 folds for each of 54 candidates, totalling 162 fits\n"
     ]
    },
    {
     "name": "stderr",
     "output_type": "stream",
     "text": [
      "[Parallel(n_jobs=-1)]: Done 162 out of 162 | elapsed:    2.7s finished\n"
     ]
    },
    {
     "data": {
      "text/plain": [
       "GridSearchCV(cv=None, error_score='raise',\n",
       "       estimator=KNeighborsRegressor(algorithm='auto', leaf_size=30, metric='minkowski',\n",
       "          metric_params=None, n_jobs=1, n_neighbors=5, p=2,\n",
       "          weights='uniform'),\n",
       "       fit_params=None, iid=True, n_jobs=-1,\n",
       "       param_grid=[{'weights': ['uniform'], 'n_neighbors': [1, 2, 3, 4, 5, 6, 7, 8, 9]}, {'weights': ['distance'], 'n_neighbors': [1, 2, 3, 4, 5, 6, 7, 8, 9], 'p': [1, 2, 3, 4, 5]}],\n",
       "       pre_dispatch='2*n_jobs', refit=True, return_train_score='warn',\n",
       "       scoring=None, verbose=2)"
      ]
     },
     "execution_count": 21,
     "metadata": {},
     "output_type": "execute_result"
    }
   ],
   "source": [
    "from sklearn.model_selection import GridSearchCV\n",
    "\n",
    "param_grid = [\n",
    "    {\n",
    "        \"weights\" : [\"uniform\"],\n",
    "        \"n_neighbors\" : [i for i in range(1, 10)]\n",
    "    },\n",
    "    {\n",
    "        \"weights\" : [\"distance\"],\n",
    "        \"n_neighbors\" : [i for i in range(1, 10)],\n",
    "        \"p\" : [i for i in range(1, 6)]\n",
    "    }\n",
    "]\n",
    "\n",
    "knn_reg = KNeighborsRegressor()\n",
    "grid_search = GridSearchCV(knn_reg, param_grid, n_jobs=-1, verbose=2)\n",
    "grid_search.fit(X_train, y_train)"
   ]
  },
  {
   "cell_type": "code",
   "execution_count": 22,
   "metadata": {},
   "outputs": [
    {
     "data": {
      "text/plain": [
       "{'n_neighbors': 6, 'p': 1, 'weights': 'distance'}"
      ]
     },
     "execution_count": 22,
     "metadata": {},
     "output_type": "execute_result"
    }
   ],
   "source": [
    "grid_search.best_params_"
   ]
  },
  {
   "cell_type": "code",
   "execution_count": 24,
   "metadata": {},
   "outputs": [
    {
     "data": {
      "text/plain": [
       "0.587229742053783"
      ]
     },
     "execution_count": 24,
     "metadata": {},
     "output_type": "execute_result"
    }
   ],
   "source": [
    "grid_search.best_score_   #这个评价指标并不是R2"
   ]
  },
  {
   "cell_type": "code",
   "execution_count": 25,
   "metadata": {},
   "outputs": [
    {
     "data": {
      "text/plain": [
       "0.693655644868932"
      ]
     },
     "execution_count": 25,
     "metadata": {},
     "output_type": "execute_result"
    }
   ],
   "source": [
    "grid_search.best_estimator_.score(X_test, y_test)   #这个是R2"
   ]
  },
  {
   "cell_type": "code",
   "execution_count": null,
   "metadata": {},
   "outputs": [],
   "source": []
  }
 ],
 "metadata": {
  "kernelspec": {
   "display_name": "Python 3",
   "language": "python",
   "name": "python3"
  },
  "language_info": {
   "codemirror_mode": {
    "name": "ipython",
    "version": 3
   },
   "file_extension": ".py",
   "mimetype": "text/x-python",
   "name": "python",
   "nbconvert_exporter": "python",
   "pygments_lexer": "ipython3",
   "version": "3.6.4"
  }
 },
 "nbformat": 4,
 "nbformat_minor": 2
}
